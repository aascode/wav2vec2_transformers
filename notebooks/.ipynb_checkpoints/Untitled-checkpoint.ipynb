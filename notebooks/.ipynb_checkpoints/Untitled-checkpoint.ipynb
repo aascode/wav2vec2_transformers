{
 "cells": [
  {
   "cell_type": "code",
   "execution_count": 1,
   "metadata": {},
   "outputs": [],
   "source": [
    "%load_ext blackcellmagic"
   ]
  },
  {
   "cell_type": "code",
   "execution_count": 2,
   "metadata": {},
   "outputs": [],
   "source": [
    "import librosa\n",
    "import pandas as pd"
   ]
  },
  {
   "cell_type": "code",
   "execution_count": 3,
   "metadata": {},
   "outputs": [],
   "source": [
    "def load_speech(speech_batch):\n",
    "    speech_batch = list()\n",
    "    for i, speech in enumerate(speech_batch):\n",
    "        speech[i], rate = librosa.load(\"../audio/lhl_wef/lhl_wef-%d.flac\" % i, sr=16000)\n",
    "        return speed_batch\n"
   ]
  },
  {
   "cell_type": "code",
   "execution_count": 4,
   "metadata": {},
   "outputs": [],
   "source": [
    "load_speech([0,5])"
   ]
  },
  {
   "cell_type": "code",
   "execution_count": 5,
   "metadata": {},
   "outputs": [
    {
     "data": {
      "text/plain": [
       "<function __main__.load_speech(speech_batch)>"
      ]
     },
     "execution_count": 5,
     "metadata": {},
     "output_type": "execute_result"
    }
   ],
   "source": [
    "load_speech"
   ]
  },
  {
   "cell_type": "code",
   "execution_count": null,
   "metadata": {},
   "outputs": [],
   "source": [
    "def transcript(x):\n",
    "    speech = {}\n",
    "    input_values = {}\n",
    "    logits = {}\n",
    "    predicted_ids = {}\n",
    "    for i in range(1, x):\n",
    "        speech[i], rate = librosa.load(\"lhl_wef/lhl_wef-%d.flac\" % i, sr=16000)\n",
    "        input_values[i] = tokenizer(speech[i], return_tensors=\"pt\").input_values\n",
    "        logits[i] = model(input_values[i]).logits\n",
    "        predicted_ids[i] = torch.argmax(logits[i], dim=-1)\n",
    "        transcribe[i] = tokenizer.decode(predicted_ids[i][0])\n",
    "    return transcribe\n"
   ]
  },
  {
   "cell_type": "code",
   "execution_count": null,
   "metadata": {},
   "outputs": [],
   "source": [
    "def transcript(x, y):\n",
    "    speech = {}\n",
    "    input_values = {}\n",
    "    logits = {}\n",
    "    predicted_ids = {}\n",
    "    transcribe = {}\n",
    "    for i, j in zip(range(x), range(y)):\n",
    "        speech[i:j], rate = librosa.load(\n",
    "            \"lhl_wef/lhl_wef-%d.flac\" % k for k in range(x, y), sr=16000\n",
    "        )\n",
    "        input_values[i:j] = tokenizer(speech[i:j], return_tensors=\"pt\").input_values\n",
    "        logits[i:j] = model(input_values[i:j]).logits\n",
    "        predicted_ids[i:j] = torch.argmax(logits[i:j], dim=-1)\n",
    "        transcribe[i:j] = tokenizer.decode(predicted_ids[i:j][0])\n",
    "    return transcribe\n"
   ]
  },
  {
   "cell_type": "code",
   "execution_count": null,
   "metadata": {},
   "outputs": [],
   "source": [
    "def transcript(x, y):\n",
    "    speech = {}\n",
    "    input_values = {}\n",
    "    logits = {}\n",
    "    predicted_ids = {}\n",
    "    transcribe = {}\n",
    "    for i in range(x+1, y):\n",
    "        speech[i], rate = librosa.load(\n",
    "            \"lhl_wef/lhl_wef-%d.flac\" % k for k in range(x, y), sr=16000\n",
    "        )\n",
    "        input_values[i] = tokenizer(speech[i], return_tensors=\"pt\").input_values\n",
    "        logits[i] = model(input_values[i]).logits\n",
    "        predicted_ids[i] = torch.argmax(logits[i], dim=-1)\n",
    "        transcribe[i] = tokenizer.decode(predicted_ids[i][0])\n",
    "    return transcribe\n"
   ]
  },
  {
   "cell_type": "code",
   "execution_count": null,
   "metadata": {},
   "outputs": [],
   "source": [
    "def split(filepath):\n",
    "sound = AudioSegment.from_wav(filepath)\n",
    "dBFS = sound.dBFS\n",
    "chunks = split_on_silence(sound, \n",
    "    min_silence_len = 500,\n",
    "    silence_thresh = dBFS-16)\n",
    "return chunks"
   ]
  }
 ],
 "metadata": {
  "kernelspec": {
   "display_name": "Python 3",
   "language": "python",
   "name": "python3"
  },
  "language_info": {
   "codemirror_mode": {
    "name": "ipython",
    "version": 3
   },
   "file_extension": ".py",
   "mimetype": "text/x-python",
   "name": "python",
   "nbconvert_exporter": "python",
   "pygments_lexer": "ipython3",
   "version": "3.6.8"
  }
 },
 "nbformat": 4,
 "nbformat_minor": 4
}
